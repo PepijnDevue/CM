{
 "cells": [
  {
   "cell_type": "markdown",
   "id": "9ab75ef9",
   "metadata": {},
   "source": [
    "## Columns NaNs where they might be an actual value\n",
    "* AMT_ANNUITY (12) might be 0\n",
    "* OWN_CAR_AGE (202929) might not own car\n",
    "* CNT_FAM_MEMBERS (2) might be 0\n",
    "* APARTMENTS_AVG (156061) might not own apt\n",
    "* BASEMENTAREA_AVG (179943) might not own basement\n",
    "* YEARS_BEGINEXPLUATATION_AVG (150007) might not own apt\n",
    "* YEARS_BUILD_AVG (204488) might not own apt\n",
    "* COMMONAREA_AVG 214865 might not have commonarea\n",
    "* ELEVATORS_AVG 163891 might be homeless\n",
    "* ENTRANCES_AVG 154828 might be homeless\n",
    "* FLOORSMAX_AVG 153020\n",
    "* FLOORSMIN_AVG 208642\n",
    "* LANDAREA_AVG 182590\n",
    "* LIVINGAPARTMENTS_AVG 210199\n",
    "* LIVINGAREA_AVG 154350\n",
    "* NONLIVINGAPARTMENTS_AVG 213514\n",
    "* NONLIVINGAREA_AVG 169682\n",
    "* APARTMENTS_MODE 156061\n",
    "* BASEMENTAREA_MODE 179943\n",
    "* YEARS_BEGINEXPLUATATION_MODE 150007\n",
    "* YEARS_BUILD_MODE 204488\n",
    "* COMMONAREA_MODE 214865\n",
    "* ELEVATORS_MODE 163891\n",
    "* ENTRANCES_MODE 154828\n",
    "* FLOORSMAX_MODE 153020\n",
    "* FLOORSMIN_MODE 208642\n",
    "* LANDAREA_MODE 182590\n",
    "* LIVINGAPARTMENTS_MODE 210199\n",
    "* LIVINGAREA_MODE 154350\n",
    "* NONLIVINGAPARTMENTS_MODE 213514\n",
    "* NONLIVINGAREA_MODE 169682\n",
    "* APARTMENTS_MEDI 156061\n",
    "* BASEMENTAREA_MEDI 179943\n",
    "* YEARS_BEGINEXPLUATATION_MEDI 150007\n",
    "* YEARS_BUILD_MEDI 204488\n",
    "* COMMONAREA_MEDI 214865\n",
    "* ELEVATORS_MEDI 163891\n",
    "* ENTRANCES_MEDI 154828\n",
    "* FLOORSMAX_MEDI 153020\n",
    "* FLOORSMIN_MEDI 208642\n",
    "* LANDAREA_MEDI 182590\n",
    "* LIVINGAPARTMENTS_MEDI 210199\n",
    "* LIVINGAREA_MEDI 154350\n",
    "* NONLIVINGAPARTMENTS_MEDI 213514\n",
    "* NONLIVINGAREA_MEDI 169682\n",
    "* FONDKAPREMONT_MODE 210295\n",
    "* HOUSETYPE_MODE 154297\n",
    "* TOTALAREA_MODE 148431\n",
    "* WALLSMATERIAL_MODE 156341\n",
    "* EMERGENCYSTATE_MODE 145755\n",
    "* OBS_30_CNT_SOCIAL_CIRCLE 1021 ?\n",
    "* DEF_30_CNT_SOCIAL_CIRCLE 1021 ?\n",
    "* OBS_60_CNT_SOCIAL_CIRCLE 1021 ?\n",
    "* DEF_60_CNT_SOCIAL_CIRCLE 1021 ?\n",
    "* DAYS_LAST_PHONE_CHANGE 1 ?\n",
    "* AMT_REQ_CREDIT_BUREAU_HOUR 41519 ?\n",
    "* AMT_REQ_CREDIT_BUREAU_DAY 41519 ?\n",
    "* AMT_REQ_CREDIT_BUREAU_WEEK 41519 ?\n",
    "* AMT_REQ_CREDIT_BUREAU_MON 41519 ?\n",
    "* AMT_REQ_CREDIT_BUREAU_QRT 41519 ?\n",
    "* AMT_REQ_CREDIT_BUREAU_YEAR 41519 ?"
   ]
  },
  {
   "cell_type": "markdown",
   "id": "85029fdd",
   "metadata": {},
   "source": [
    "## Definitely useless columns\n",
    "* EXT_SOURCE_1 unknown what it means\n",
    "* EXT_SOURCE_2 -\n",
    "* EXT_SOURCE_3 -"
   ]
  },
  {
   "cell_type": "code",
   "execution_count": null,
   "id": "af7b338a",
   "metadata": {},
   "outputs": [],
   "source": []
  }
 ],
 "metadata": {
  "kernelspec": {
   "display_name": "Python 3 (ipykernel)",
   "language": "python",
   "name": "python3"
  },
  "language_info": {
   "codemirror_mode": {
    "name": "ipython",
    "version": 3
   },
   "file_extension": ".py",
   "mimetype": "text/x-python",
   "name": "python",
   "nbconvert_exporter": "python",
   "pygments_lexer": "ipython3",
   "version": "3.10.9"
  }
 },
 "nbformat": 4,
 "nbformat_minor": 5
}
